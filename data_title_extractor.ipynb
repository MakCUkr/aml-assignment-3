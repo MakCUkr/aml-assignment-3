{
 "cells": [
  {
   "cell_type": "code",
   "execution_count": 1,
   "metadata": {},
   "outputs": [],
   "source": [
    "import pandas as pd\n",
    "import requests\n",
    "from bs4 import BeautifulSoup"
   ]
  },
  {
   "cell_type": "code",
   "execution_count": 2,
   "metadata": {},
   "outputs": [],
   "source": [
    "df = pd.read_csv(\"papers_of_interest.csv\")"
   ]
  },
  {
   "cell_type": "code",
   "execution_count": 4,
   "metadata": {},
   "outputs": [],
   "source": [
    "def get_arxiv_info(url):\n",
    "    try:\n",
    "        response = requests.get(url)\n",
    "        response.raise_for_status()  # raise an exception for HTTP errors\n",
    "        soup = BeautifulSoup(response.text, 'html.parser')\n",
    "        \n",
    "        title = soup.find('h1', class_='title').text.replace('Title: ', '').strip()\n",
    "        abstract = soup.find('blockquote', class_='abstract').text.replace('Abstract:  ', '').strip()\n",
    "        \n",
    "        return title, abstract\n",
    "    except Exception as e:\n",
    "        return \"Error\", str(e)"
   ]
  },
  {
   "cell_type": "code",
   "execution_count": 5,
   "metadata": {},
   "outputs": [
    {
     "name": "stdout",
     "output_type": "stream",
     "text": [
      "      no                                              title  \\\n",
      "0      1      Title:A Generalist Neural Algorithmic Learner   \n",
      "1      2    Title:Meta-Learning Fast Weight Language Models   \n",
      "2      3  Title:Testing GLOM's ability to infer wholes f...   \n",
      "3      4  Title:Seven Sketches in Compositionality: An I...   \n",
      "4      5               Title:Evolution through Large Models   \n",
      "..   ...                                                ...   \n",
      "308  309  Title:The Rise of Diffusion Models in Time-Ser...   \n",
      "309  310  Title:How Far Are We from Intelligent Visual D...   \n",
      "310  311  Title:The Illusion of State in State-Space Models   \n",
      "311  312  Title:AgentKit: Flow Engineering with Graphs, ...   \n",
      "312  313  Title:GoEX: Perspectives and Designs Towards a...   \n",
      "\n",
      "                                              abstract  \n",
      "0    Abstract:The cornerstone of neural algorithmic...  \n",
      "1    Abstract:Dynamic evaluation of language models...  \n",
      "2    Abstract:The GLOM architecture proposed by Hin...  \n",
      "3    Abstract:This book is an invitation to discove...  \n",
      "4    Abstract:This paper pursues the insight that l...  \n",
      "..                                                 ...  \n",
      "308  Abstract:This survey delves into the applicati...  \n",
      "309  Abstract:Vision-Language Models (VLMs) such as...  \n",
      "310  Abstract:State-space models (SSMs) have emerge...  \n",
      "311  Abstract:We propose an intuitive LLM prompting...  \n",
      "312  Abstract:Large Language Models (LLMs) are evol...  \n",
      "\n",
      "[313 rows x 3 columns]\n"
     ]
    }
   ],
   "source": [
    "df['url'] = df['url'].apply(lambda x: x.replace('/pdf/', '/abs/').replace('.pdf', ''))\n",
    "df['title_abstract'] = df['url'].apply(get_arxiv_info)\n",
    "df[['title', 'abstract']] = pd.DataFrame(df['title_abstract'].tolist(), index=df.index)\n",
    "print(df[['no', 'title', 'abstract']])"
   ]
  },
  {
   "cell_type": "code",
   "execution_count": 6,
   "metadata": {},
   "outputs": [],
   "source": [
    "df.to_csv(\"papers_of_interest_with_abstracts.csv\", index=False)"
   ]
  },
  {
   "cell_type": "code",
   "execution_count": null,
   "metadata": {},
   "outputs": [],
   "source": []
  }
 ],
 "metadata": {
  "kernelspec": {
   "display_name": "Python 3",
   "language": "python",
   "name": "python3"
  },
  "language_info": {
   "codemirror_mode": {
    "name": "ipython",
    "version": 3
   },
   "file_extension": ".py",
   "mimetype": "text/x-python",
   "name": "python",
   "nbconvert_exporter": "python",
   "pygments_lexer": "ipython3",
   "version": "3.9.15"
  }
 },
 "nbformat": 4,
 "nbformat_minor": 2
}
