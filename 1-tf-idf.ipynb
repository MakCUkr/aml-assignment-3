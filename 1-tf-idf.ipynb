{
 "cells": [
  {
   "cell_type": "code",
   "execution_count": 11,
   "metadata": {},
   "outputs": [],
   "source": [
    "import pandas as pd\n",
    "from sklearn.feature_extraction.text import TfidfVectorizer\n",
    "from sklearn.metrics.pairwise import cosine_similarity\n",
    "import numpy as np"
   ]
  },
  {
   "cell_type": "code",
   "execution_count": 12,
   "metadata": {},
   "outputs": [],
   "source": [
    "positive_samples_df = pd.read_csv(\"papers_of_interest_with_abstracts.csv\")\n",
    "positive_samples_df = positive_samples_df[[\"title\", \"abstract\"]]\n",
    "daily_papers_df = pd.read_csv(\"daily_arxiv_papers.csv\")"
   ]
  },
  {
   "cell_type": "code",
   "execution_count": 14,
   "metadata": {},
   "outputs": [],
   "source": [
    "positive_samples_df['text'] = positive_samples_df['title'] + ' ' + positive_samples_df['abstract']\n",
    "daily_papers_df['text'] = daily_papers_df['title'] + ' ' + daily_papers_df['abstract']\n",
    "tfidf_vectorizer = TfidfVectorizer()\n",
    "tfidf_matrix_positive = tfidf_vectorizer.fit_transform(positive_samples_df['text'])\n",
    "tfidf_matrix_daily = tfidf_vectorizer.transform(daily_papers_df['text'])\n",
    "cosine_similarities = cosine_similarity(tfidf_matrix_daily, tfidf_matrix_positive)\n",
    "max_similarity_scores = cosine_similarities.max(axis=1)\n",
    "daily_papers_df['similarity_score'] = max_similarity_scores\n",
    "recommended_papers_df = daily_papers_df.sort_values(by='similarity_score', ascending=False)"
   ]
  },
  {
   "cell_type": "code",
   "execution_count": 18,
   "metadata": {},
   "outputs": [],
   "source": [
    "recommended_papers_df = recommended_papers_df[recommended_papers_df[\"similarity_score\"] > 0.45]"
   ]
  },
  {
   "cell_type": "code",
   "execution_count": 19,
   "metadata": {},
   "outputs": [
    {
     "data": {
      "text/html": [
       "<div>\n",
       "<style scoped>\n",
       "    .dataframe tbody tr th:only-of-type {\n",
       "        vertical-align: middle;\n",
       "    }\n",
       "\n",
       "    .dataframe tbody tr th {\n",
       "        vertical-align: top;\n",
       "    }\n",
       "\n",
       "    .dataframe thead th {\n",
       "        text-align: right;\n",
       "    }\n",
       "</style>\n",
       "<table border=\"1\" class=\"dataframe\">\n",
       "  <thead>\n",
       "    <tr style=\"text-align: right;\">\n",
       "      <th></th>\n",
       "      <th>id</th>\n",
       "      <th>title</th>\n",
       "      <th>abstract</th>\n",
       "      <th>date</th>\n",
       "      <th>text</th>\n",
       "      <th>similarity_score</th>\n",
       "    </tr>\n",
       "  </thead>\n",
       "  <tbody>\n",
       "    <tr>\n",
       "      <th>408</th>\n",
       "      <td>http://arxiv.org/abs/2404.11483v1</td>\n",
       "      <td>AgentKit: Flow Engineering with Graphs, not Co...</td>\n",
       "      <td>We propose an intuitive LLM prompting framewor...</td>\n",
       "      <td>2024-04-17</td>\n",
       "      <td>AgentKit: Flow Engineering with Graphs, not Co...</td>\n",
       "      <td>0.994695</td>\n",
       "    </tr>\n",
       "    <tr>\n",
       "      <th>235</th>\n",
       "      <td>http://arxiv.org/abs/2404.09690v1</td>\n",
       "      <td>Harnessing GPT-4V(ision) for Insurance: A Prel...</td>\n",
       "      <td>The emergence of Large Multimodal Models (LMMs...</td>\n",
       "      <td>2024-04-15</td>\n",
       "      <td>Harnessing GPT-4V(ision) for Insurance: A Prel...</td>\n",
       "      <td>0.514546</td>\n",
       "    </tr>\n",
       "    <tr>\n",
       "      <th>834</th>\n",
       "      <td>http://arxiv.org/abs/2404.13846v1</td>\n",
       "      <td>Filtered Direct Preference Optimization</td>\n",
       "      <td>Reinforcement learning from human feedback (RL...</td>\n",
       "      <td>2024-04-22</td>\n",
       "      <td>Filtered Direct Preference Optimization Reinfo...</td>\n",
       "      <td>0.469811</td>\n",
       "    </tr>\n",
       "    <tr>\n",
       "      <th>900</th>\n",
       "      <td>http://arxiv.org/abs/2404.14786v1</td>\n",
       "      <td>LLM-Enhanced Causal Discovery in Temporal Doma...</td>\n",
       "      <td>In the field of Artificial Intelligence for In...</td>\n",
       "      <td>2024-04-23</td>\n",
       "      <td>LLM-Enhanced Causal Discovery in Temporal Doma...</td>\n",
       "      <td>0.457011</td>\n",
       "    </tr>\n",
       "    <tr>\n",
       "      <th>802</th>\n",
       "      <td>http://arxiv.org/abs/2404.14197v1</td>\n",
       "      <td>SOFTS: Efficient Multivariate Time Series Fore...</td>\n",
       "      <td>Multivariate time series forecasting plays a c...</td>\n",
       "      <td>2024-04-22</td>\n",
       "      <td>SOFTS: Efficient Multivariate Time Series Fore...</td>\n",
       "      <td>0.455941</td>\n",
       "    </tr>\n",
       "  </tbody>\n",
       "</table>\n",
       "</div>"
      ],
      "text/plain": [
       "                                    id  \\\n",
       "408  http://arxiv.org/abs/2404.11483v1   \n",
       "235  http://arxiv.org/abs/2404.09690v1   \n",
       "834  http://arxiv.org/abs/2404.13846v1   \n",
       "900  http://arxiv.org/abs/2404.14786v1   \n",
       "802  http://arxiv.org/abs/2404.14197v1   \n",
       "\n",
       "                                                 title  \\\n",
       "408  AgentKit: Flow Engineering with Graphs, not Co...   \n",
       "235  Harnessing GPT-4V(ision) for Insurance: A Prel...   \n",
       "834            Filtered Direct Preference Optimization   \n",
       "900  LLM-Enhanced Causal Discovery in Temporal Doma...   \n",
       "802  SOFTS: Efficient Multivariate Time Series Fore...   \n",
       "\n",
       "                                              abstract        date  \\\n",
       "408  We propose an intuitive LLM prompting framewor...  2024-04-17   \n",
       "235  The emergence of Large Multimodal Models (LMMs...  2024-04-15   \n",
       "834  Reinforcement learning from human feedback (RL...  2024-04-22   \n",
       "900  In the field of Artificial Intelligence for In...  2024-04-23   \n",
       "802  Multivariate time series forecasting plays a c...  2024-04-22   \n",
       "\n",
       "                                                  text  similarity_score  \n",
       "408  AgentKit: Flow Engineering with Graphs, not Co...          0.994695  \n",
       "235  Harnessing GPT-4V(ision) for Insurance: A Prel...          0.514546  \n",
       "834  Filtered Direct Preference Optimization Reinfo...          0.469811  \n",
       "900  LLM-Enhanced Causal Discovery in Temporal Doma...          0.457011  \n",
       "802  SOFTS: Efficient Multivariate Time Series Fore...          0.455941  "
      ]
     },
     "execution_count": 19,
     "metadata": {},
     "output_type": "execute_result"
    }
   ],
   "source": [
    "recommended_papers_df"
   ]
  },
  {
   "cell_type": "code",
   "execution_count": null,
   "metadata": {},
   "outputs": [],
   "source": []
  }
 ],
 "metadata": {
  "kernelspec": {
   "display_name": "Python 3",
   "language": "python",
   "name": "python3"
  },
  "language_info": {
   "codemirror_mode": {
    "name": "ipython",
    "version": 3
   },
   "file_extension": ".py",
   "mimetype": "text/x-python",
   "name": "python",
   "nbconvert_exporter": "python",
   "pygments_lexer": "ipython3",
   "version": "3.9.15"
  }
 },
 "nbformat": 4,
 "nbformat_minor": 2
}
